{
 "cells": [
  {
   "cell_type": "code",
   "execution_count": 3,
   "id": "initial_id",
   "metadata": {
    "collapsed": true,
    "ExecuteTime": {
     "end_time": "2024-03-03T10:20:52.955511200Z",
     "start_time": "2024-03-03T10:20:52.947499900Z"
    }
   },
   "outputs": [],
   "source": [
    "import pandas as pd"
   ]
  },
  {
   "cell_type": "code",
   "outputs": [
    {
     "data": {
      "text/plain": "   customer_id customer_name             gender  age  \\\n0            1       fulan 1             Female   30   \n1            2       fulan 2  Prefer not to say   69   \n2            3       fulan 3  Prefer not to say   59   \n3            4       fulan 4  Prefer not to say   67   \n4            5       fulan 5  Prefer not to say   30   \n\n                     home_address  zip_code               city  \\\n0  8606 Victoria TerraceSuite 560      5464      Johnstonhaven   \n1      8327 Kirlin SummitApt. 461      8223    New Zacharyfort   \n2       269 Gemma SummitSuite 109      5661           Aliburgh   \n3       743 Bailey GroveSuite 141      1729  South Justinhaven   \n4         48 Hyatt ManorSuite 375      4032     Griffithsshire   \n\n                          state    country  \n0            Northern Territory  Australia  \n1               South Australia  Australia  \n2  Australian Capital Territory  Australia  \n3                    Queensland  Australia  \n4                    Queensland  Australia  ",
      "text/html": "<div>\n<style scoped>\n    .dataframe tbody tr th:only-of-type {\n        vertical-align: middle;\n    }\n\n    .dataframe tbody tr th {\n        vertical-align: top;\n    }\n\n    .dataframe thead th {\n        text-align: right;\n    }\n</style>\n<table border=\"1\" class=\"dataframe\">\n  <thead>\n    <tr style=\"text-align: right;\">\n      <th></th>\n      <th>customer_id</th>\n      <th>customer_name</th>\n      <th>gender</th>\n      <th>age</th>\n      <th>home_address</th>\n      <th>zip_code</th>\n      <th>city</th>\n      <th>state</th>\n      <th>country</th>\n    </tr>\n  </thead>\n  <tbody>\n    <tr>\n      <th>0</th>\n      <td>1</td>\n      <td>fulan 1</td>\n      <td>Female</td>\n      <td>30</td>\n      <td>8606 Victoria TerraceSuite 560</td>\n      <td>5464</td>\n      <td>Johnstonhaven</td>\n      <td>Northern Territory</td>\n      <td>Australia</td>\n    </tr>\n    <tr>\n      <th>1</th>\n      <td>2</td>\n      <td>fulan 2</td>\n      <td>Prefer not to say</td>\n      <td>69</td>\n      <td>8327 Kirlin SummitApt. 461</td>\n      <td>8223</td>\n      <td>New Zacharyfort</td>\n      <td>South Australia</td>\n      <td>Australia</td>\n    </tr>\n    <tr>\n      <th>2</th>\n      <td>3</td>\n      <td>fulan 3</td>\n      <td>Prefer not to say</td>\n      <td>59</td>\n      <td>269 Gemma SummitSuite 109</td>\n      <td>5661</td>\n      <td>Aliburgh</td>\n      <td>Australian Capital Territory</td>\n      <td>Australia</td>\n    </tr>\n    <tr>\n      <th>3</th>\n      <td>4</td>\n      <td>fulan 4</td>\n      <td>Prefer not to say</td>\n      <td>67</td>\n      <td>743 Bailey GroveSuite 141</td>\n      <td>1729</td>\n      <td>South Justinhaven</td>\n      <td>Queensland</td>\n      <td>Australia</td>\n    </tr>\n    <tr>\n      <th>4</th>\n      <td>5</td>\n      <td>fulan 5</td>\n      <td>Prefer not to say</td>\n      <td>30</td>\n      <td>48 Hyatt ManorSuite 375</td>\n      <td>4032</td>\n      <td>Griffithsshire</td>\n      <td>Queensland</td>\n      <td>Australia</td>\n    </tr>\n  </tbody>\n</table>\n</div>"
     },
     "execution_count": 4,
     "metadata": {},
     "output_type": "execute_result"
    }
   ],
   "source": [
    "customers_df = pd.read_csv(\"https://raw.githubusercontent.com/dicodingacademy/dicoding_dataset/main/DicodingCollection/customers.csv\")\n",
    "customers_df.head()"
   ],
   "metadata": {
    "collapsed": false,
    "ExecuteTime": {
     "end_time": "2024-03-03T10:20:54.049010500Z",
     "start_time": "2024-03-03T10:20:53.594218400Z"
    }
   },
   "id": "844ee36c41849eec",
   "execution_count": 4
  },
  {
   "cell_type": "code",
   "outputs": [
    {
     "data": {
      "text/plain": "   order_id  customer_id  payment order_date delivery_date\n0         1           64    30811  2021-8-30    2021-09-24\n1         2          473    50490   2021-2-3    2021-02-13\n2         3          774    46763  2021-10-8    2021-11-03\n3         4          433    39782   2021-5-6    2021-05-19\n4         5          441    14719  2021-3-23    2021-03-24",
      "text/html": "<div>\n<style scoped>\n    .dataframe tbody tr th:only-of-type {\n        vertical-align: middle;\n    }\n\n    .dataframe tbody tr th {\n        vertical-align: top;\n    }\n\n    .dataframe thead th {\n        text-align: right;\n    }\n</style>\n<table border=\"1\" class=\"dataframe\">\n  <thead>\n    <tr style=\"text-align: right;\">\n      <th></th>\n      <th>order_id</th>\n      <th>customer_id</th>\n      <th>payment</th>\n      <th>order_date</th>\n      <th>delivery_date</th>\n    </tr>\n  </thead>\n  <tbody>\n    <tr>\n      <th>0</th>\n      <td>1</td>\n      <td>64</td>\n      <td>30811</td>\n      <td>2021-8-30</td>\n      <td>2021-09-24</td>\n    </tr>\n    <tr>\n      <th>1</th>\n      <td>2</td>\n      <td>473</td>\n      <td>50490</td>\n      <td>2021-2-3</td>\n      <td>2021-02-13</td>\n    </tr>\n    <tr>\n      <th>2</th>\n      <td>3</td>\n      <td>774</td>\n      <td>46763</td>\n      <td>2021-10-8</td>\n      <td>2021-11-03</td>\n    </tr>\n    <tr>\n      <th>3</th>\n      <td>4</td>\n      <td>433</td>\n      <td>39782</td>\n      <td>2021-5-6</td>\n      <td>2021-05-19</td>\n    </tr>\n    <tr>\n      <th>4</th>\n      <td>5</td>\n      <td>441</td>\n      <td>14719</td>\n      <td>2021-3-23</td>\n      <td>2021-03-24</td>\n    </tr>\n  </tbody>\n</table>\n</div>"
     },
     "execution_count": 5,
     "metadata": {},
     "output_type": "execute_result"
    }
   ],
   "source": [
    "orders_df = pd.read_csv(\"https://raw.githubusercontent.com/dicodingacademy/dicoding_dataset/main/DicodingCollection/orders.csv\")\n",
    "orders_df.head()"
   ],
   "metadata": {
    "collapsed": false,
    "ExecuteTime": {
     "end_time": "2024-03-03T10:21:04.967247100Z",
     "start_time": "2024-03-03T10:21:04.524154900Z"
    }
   },
   "id": "ebd333830165ada",
   "execution_count": 5
  },
  {
   "cell_type": "code",
   "outputs": [
    {
     "data": {
      "text/plain": "   product_id product_type  product_name size colour  price  quantity  \\\n0           0        Shirt  Oxford Cloth   XS    red    114        66   \n1           1        Shirt  Oxford Cloth    S    red    114        53   \n2           2        Shirt  Oxford Cloth    M    red    114        54   \n3           3        Shirt  Oxford Cloth    L    red    114        69   \n4           4        Shirt  Oxford Cloth   XL    red    114        47   \n\n                                    description  \n0  A red coloured, XS sized, Oxford Cloth Shirt  \n1   A red coloured, S sized, Oxford Cloth Shirt  \n2   A red coloured, M sized, Oxford Cloth Shirt  \n3   A red coloured, L sized, Oxford Cloth Shirt  \n4  A red coloured, XL sized, Oxford Cloth Shirt  ",
      "text/html": "<div>\n<style scoped>\n    .dataframe tbody tr th:only-of-type {\n        vertical-align: middle;\n    }\n\n    .dataframe tbody tr th {\n        vertical-align: top;\n    }\n\n    .dataframe thead th {\n        text-align: right;\n    }\n</style>\n<table border=\"1\" class=\"dataframe\">\n  <thead>\n    <tr style=\"text-align: right;\">\n      <th></th>\n      <th>product_id</th>\n      <th>product_type</th>\n      <th>product_name</th>\n      <th>size</th>\n      <th>colour</th>\n      <th>price</th>\n      <th>quantity</th>\n      <th>description</th>\n    </tr>\n  </thead>\n  <tbody>\n    <tr>\n      <th>0</th>\n      <td>0</td>\n      <td>Shirt</td>\n      <td>Oxford Cloth</td>\n      <td>XS</td>\n      <td>red</td>\n      <td>114</td>\n      <td>66</td>\n      <td>A red coloured, XS sized, Oxford Cloth Shirt</td>\n    </tr>\n    <tr>\n      <th>1</th>\n      <td>1</td>\n      <td>Shirt</td>\n      <td>Oxford Cloth</td>\n      <td>S</td>\n      <td>red</td>\n      <td>114</td>\n      <td>53</td>\n      <td>A red coloured, S sized, Oxford Cloth Shirt</td>\n    </tr>\n    <tr>\n      <th>2</th>\n      <td>2</td>\n      <td>Shirt</td>\n      <td>Oxford Cloth</td>\n      <td>M</td>\n      <td>red</td>\n      <td>114</td>\n      <td>54</td>\n      <td>A red coloured, M sized, Oxford Cloth Shirt</td>\n    </tr>\n    <tr>\n      <th>3</th>\n      <td>3</td>\n      <td>Shirt</td>\n      <td>Oxford Cloth</td>\n      <td>L</td>\n      <td>red</td>\n      <td>114</td>\n      <td>69</td>\n      <td>A red coloured, L sized, Oxford Cloth Shirt</td>\n    </tr>\n    <tr>\n      <th>4</th>\n      <td>4</td>\n      <td>Shirt</td>\n      <td>Oxford Cloth</td>\n      <td>XL</td>\n      <td>red</td>\n      <td>114</td>\n      <td>47</td>\n      <td>A red coloured, XL sized, Oxford Cloth Shirt</td>\n    </tr>\n  </tbody>\n</table>\n</div>"
     },
     "execution_count": 6,
     "metadata": {},
     "output_type": "execute_result"
    }
   ],
   "source": [
    "product_df = pd.read_csv(\"https://raw.githubusercontent.com/dicodingacademy/dicoding_dataset/main/DicodingCollection/products.csv\")\n",
    "product_df.head()"
   ],
   "metadata": {
    "collapsed": false,
    "ExecuteTime": {
     "end_time": "2024-03-03T10:32:41.350849Z",
     "start_time": "2024-03-03T10:32:41.167972500Z"
    }
   },
   "id": "f9ffba41325b7c9d",
   "execution_count": 6
  },
  {
   "cell_type": "code",
   "outputs": [
    {
     "data": {
      "text/plain": "   sales_id  order_id  product_id  price_per_unit  quantity  total_price\n0         0         1         218             106         2        212.0\n1         1         1         481             118         1        118.0\n2         2         1           2              96         3        288.0\n3         3         1        1002             106         2        212.0\n4         4         1         691             113         3        339.0",
      "text/html": "<div>\n<style scoped>\n    .dataframe tbody tr th:only-of-type {\n        vertical-align: middle;\n    }\n\n    .dataframe tbody tr th {\n        vertical-align: top;\n    }\n\n    .dataframe thead th {\n        text-align: right;\n    }\n</style>\n<table border=\"1\" class=\"dataframe\">\n  <thead>\n    <tr style=\"text-align: right;\">\n      <th></th>\n      <th>sales_id</th>\n      <th>order_id</th>\n      <th>product_id</th>\n      <th>price_per_unit</th>\n      <th>quantity</th>\n      <th>total_price</th>\n    </tr>\n  </thead>\n  <tbody>\n    <tr>\n      <th>0</th>\n      <td>0</td>\n      <td>1</td>\n      <td>218</td>\n      <td>106</td>\n      <td>2</td>\n      <td>212.0</td>\n    </tr>\n    <tr>\n      <th>1</th>\n      <td>1</td>\n      <td>1</td>\n      <td>481</td>\n      <td>118</td>\n      <td>1</td>\n      <td>118.0</td>\n    </tr>\n    <tr>\n      <th>2</th>\n      <td>2</td>\n      <td>1</td>\n      <td>2</td>\n      <td>96</td>\n      <td>3</td>\n      <td>288.0</td>\n    </tr>\n    <tr>\n      <th>3</th>\n      <td>3</td>\n      <td>1</td>\n      <td>1002</td>\n      <td>106</td>\n      <td>2</td>\n      <td>212.0</td>\n    </tr>\n    <tr>\n      <th>4</th>\n      <td>4</td>\n      <td>1</td>\n      <td>691</td>\n      <td>113</td>\n      <td>3</td>\n      <td>339.0</td>\n    </tr>\n  </tbody>\n</table>\n</div>"
     },
     "execution_count": 7,
     "metadata": {},
     "output_type": "execute_result"
    }
   ],
   "source": [
    "sales_df = pd.read_csv(\"https://raw.githubusercontent.com/dicodingacademy/dicoding_dataset/main/DicodingCollection/sales.csv\")\n",
    "sales_df.head()"
   ],
   "metadata": {
    "collapsed": false,
    "ExecuteTime": {
     "end_time": "2024-03-03T10:32:51.086544900Z",
     "start_time": "2024-03-03T10:32:50.874813200Z"
    }
   },
   "id": "bbcde13406219d27",
   "execution_count": 7
  },
  {
   "cell_type": "code",
   "outputs": [
    {
     "name": "stdout",
     "output_type": "stream",
     "text": [
      "<class 'pandas.core.frame.DataFrame'>\n",
      "RangeIndex: 1007 entries, 0 to 1006\n",
      "Data columns (total 9 columns):\n",
      " #   Column         Non-Null Count  Dtype \n",
      "---  ------         --------------  ----- \n",
      " 0   customer_id    1007 non-null   int64 \n",
      " 1   customer_name  1007 non-null   object\n",
      " 2   gender         989 non-null    object\n",
      " 3   age            1007 non-null   int64 \n",
      " 4   home_address   1007 non-null   object\n",
      " 5   zip_code       1007 non-null   int64 \n",
      " 6   city           1007 non-null   object\n",
      " 7   state          1007 non-null   object\n",
      " 8   country        1007 non-null   object\n",
      "dtypes: int64(3), object(6)\n",
      "memory usage: 70.9+ KB\n"
     ]
    }
   ],
   "source": [
    "customers_df.info()"
   ],
   "metadata": {
    "collapsed": false,
    "ExecuteTime": {
     "end_time": "2024-03-03T10:33:01.343985100Z",
     "start_time": "2024-03-03T10:33:01.321779400Z"
    }
   },
   "id": "329b99923abbb7b",
   "execution_count": 8
  },
  {
   "cell_type": "code",
   "outputs": [
    {
     "data": {
      "text/plain": "customer_id       0\ncustomer_name     0\ngender           18\nage               0\nhome_address      0\nzip_code          0\ncity              0\nstate             0\ncountry           0\ndtype: int64"
     },
     "execution_count": 9,
     "metadata": {},
     "output_type": "execute_result"
    }
   ],
   "source": [
    "customers_df.isna().sum()"
   ],
   "metadata": {
    "collapsed": false,
    "ExecuteTime": {
     "end_time": "2024-03-03T10:37:08.894661100Z",
     "start_time": "2024-03-03T10:37:08.884922Z"
    }
   },
   "id": "2cfbbdcb8e1f2866",
   "execution_count": 9
  },
  {
   "cell_type": "code",
   "outputs": [
    {
     "name": "stdout",
     "output_type": "stream",
     "text": [
      "Jumlah duplikasi:  6\n"
     ]
    }
   ],
   "source": [
    "print(\"Jumlah duplikasi: \", customers_df.duplicated().sum())"
   ],
   "metadata": {
    "collapsed": false,
    "ExecuteTime": {
     "end_time": "2024-03-03T10:37:18.548167900Z",
     "start_time": "2024-03-03T10:37:18.535636800Z"
    }
   },
   "id": "7ee882f61dcd46d5",
   "execution_count": 10
  },
  {
   "cell_type": "code",
   "outputs": [
    {
     "data": {
      "text/plain": "       customer_id          age     zip_code\ncount  1007.000000  1007.000000  1007.000000\nmean    501.726912    50.929494  5012.538232\nstd     288.673238    30.516299  2885.836112\nmin       1.000000    20.000000     2.000000\n25%     252.500000    34.000000  2403.500000\n50%     502.000000    50.000000  5087.000000\n75%     751.500000    65.000000  7493.500000\nmax    1000.000000   700.000000  9998.000000",
      "text/html": "<div>\n<style scoped>\n    .dataframe tbody tr th:only-of-type {\n        vertical-align: middle;\n    }\n\n    .dataframe tbody tr th {\n        vertical-align: top;\n    }\n\n    .dataframe thead th {\n        text-align: right;\n    }\n</style>\n<table border=\"1\" class=\"dataframe\">\n  <thead>\n    <tr style=\"text-align: right;\">\n      <th></th>\n      <th>customer_id</th>\n      <th>age</th>\n      <th>zip_code</th>\n    </tr>\n  </thead>\n  <tbody>\n    <tr>\n      <th>count</th>\n      <td>1007.000000</td>\n      <td>1007.000000</td>\n      <td>1007.000000</td>\n    </tr>\n    <tr>\n      <th>mean</th>\n      <td>501.726912</td>\n      <td>50.929494</td>\n      <td>5012.538232</td>\n    </tr>\n    <tr>\n      <th>std</th>\n      <td>288.673238</td>\n      <td>30.516299</td>\n      <td>2885.836112</td>\n    </tr>\n    <tr>\n      <th>min</th>\n      <td>1.000000</td>\n      <td>20.000000</td>\n      <td>2.000000</td>\n    </tr>\n    <tr>\n      <th>25%</th>\n      <td>252.500000</td>\n      <td>34.000000</td>\n      <td>2403.500000</td>\n    </tr>\n    <tr>\n      <th>50%</th>\n      <td>502.000000</td>\n      <td>50.000000</td>\n      <td>5087.000000</td>\n    </tr>\n    <tr>\n      <th>75%</th>\n      <td>751.500000</td>\n      <td>65.000000</td>\n      <td>7493.500000</td>\n    </tr>\n    <tr>\n      <th>max</th>\n      <td>1000.000000</td>\n      <td>700.000000</td>\n      <td>9998.000000</td>\n    </tr>\n  </tbody>\n</table>\n</div>"
     },
     "execution_count": 11,
     "metadata": {},
     "output_type": "execute_result"
    }
   ],
   "source": [
    "customers_df.describe()"
   ],
   "metadata": {
    "collapsed": false,
    "ExecuteTime": {
     "end_time": "2024-03-03T10:37:23.752077500Z",
     "start_time": "2024-03-03T10:37:23.718827300Z"
    }
   },
   "id": "9a22c7dddc997f0d",
   "execution_count": 11
  },
  {
   "cell_type": "code",
   "outputs": [
    {
     "name": "stdout",
     "output_type": "stream",
     "text": [
      "<class 'pandas.core.frame.DataFrame'>\n",
      "RangeIndex: 1000 entries, 0 to 999\n",
      "Data columns (total 5 columns):\n",
      " #   Column         Non-Null Count  Dtype \n",
      "---  ------         --------------  ----- \n",
      " 0   order_id       1000 non-null   int64 \n",
      " 1   customer_id    1000 non-null   int64 \n",
      " 2   payment        1000 non-null   int64 \n",
      " 3   order_date     1000 non-null   object\n",
      " 4   delivery_date  1000 non-null   object\n",
      "dtypes: int64(3), object(2)\n",
      "memory usage: 39.2+ KB\n"
     ]
    }
   ],
   "source": [
    "orders_df.info()"
   ],
   "metadata": {
    "collapsed": false,
    "ExecuteTime": {
     "end_time": "2024-03-03T10:37:30.600108700Z",
     "start_time": "2024-03-03T10:37:30.580487200Z"
    }
   },
   "id": "77772aa8f8ae8d34",
   "execution_count": 12
  },
  {
   "cell_type": "code",
   "outputs": [
    {
     "name": "stdout",
     "output_type": "stream",
     "text": [
      "Jumlah duplikasi:  0\n"
     ]
    },
    {
     "data": {
      "text/plain": "          order_id  customer_id       payment\ncount  1000.000000  1000.000000   1000.000000\nmean    500.500000   506.640000  33972.936000\nstd     288.819436   277.115502  14451.609047\nmin       1.000000     1.000000  10043.000000\n25%     250.750000   275.250000  21329.250000\n50%     500.500000   515.000000  33697.500000\n75%     750.250000   737.250000  46249.000000\nmax    1000.000000  1000.000000  59910.000000",
      "text/html": "<div>\n<style scoped>\n    .dataframe tbody tr th:only-of-type {\n        vertical-align: middle;\n    }\n\n    .dataframe tbody tr th {\n        vertical-align: top;\n    }\n\n    .dataframe thead th {\n        text-align: right;\n    }\n</style>\n<table border=\"1\" class=\"dataframe\">\n  <thead>\n    <tr style=\"text-align: right;\">\n      <th></th>\n      <th>order_id</th>\n      <th>customer_id</th>\n      <th>payment</th>\n    </tr>\n  </thead>\n  <tbody>\n    <tr>\n      <th>count</th>\n      <td>1000.000000</td>\n      <td>1000.000000</td>\n      <td>1000.000000</td>\n    </tr>\n    <tr>\n      <th>mean</th>\n      <td>500.500000</td>\n      <td>506.640000</td>\n      <td>33972.936000</td>\n    </tr>\n    <tr>\n      <th>std</th>\n      <td>288.819436</td>\n      <td>277.115502</td>\n      <td>14451.609047</td>\n    </tr>\n    <tr>\n      <th>min</th>\n      <td>1.000000</td>\n      <td>1.000000</td>\n      <td>10043.000000</td>\n    </tr>\n    <tr>\n      <th>25%</th>\n      <td>250.750000</td>\n      <td>275.250000</td>\n      <td>21329.250000</td>\n    </tr>\n    <tr>\n      <th>50%</th>\n      <td>500.500000</td>\n      <td>515.000000</td>\n      <td>33697.500000</td>\n    </tr>\n    <tr>\n      <th>75%</th>\n      <td>750.250000</td>\n      <td>737.250000</td>\n      <td>46249.000000</td>\n    </tr>\n    <tr>\n      <th>max</th>\n      <td>1000.000000</td>\n      <td>1000.000000</td>\n      <td>59910.000000</td>\n    </tr>\n  </tbody>\n</table>\n</div>"
     },
     "execution_count": 13,
     "metadata": {},
     "output_type": "execute_result"
    }
   ],
   "source": [
    "print(\"Jumlah duplikasi: \",orders_df.duplicated().sum())\n",
    "orders_df.describe()"
   ],
   "metadata": {
    "collapsed": false,
    "ExecuteTime": {
     "end_time": "2024-03-03T10:42:05.262561300Z",
     "start_time": "2024-03-03T10:42:05.240953500Z"
    }
   },
   "id": "b261db9a37ffcefe",
   "execution_count": 13
  },
  {
   "cell_type": "code",
   "outputs": [
    {
     "name": "stdout",
     "output_type": "stream",
     "text": [
      "<class 'pandas.core.frame.DataFrame'>\n",
      "RangeIndex: 1266 entries, 0 to 1265\n",
      "Data columns (total 8 columns):\n",
      " #   Column        Non-Null Count  Dtype \n",
      "---  ------        --------------  ----- \n",
      " 0   product_id    1266 non-null   int64 \n",
      " 1   product_type  1266 non-null   object\n",
      " 2   product_name  1266 non-null   object\n",
      " 3   size          1266 non-null   object\n",
      " 4   colour        1266 non-null   object\n",
      " 5   price         1266 non-null   int64 \n",
      " 6   quantity      1266 non-null   int64 \n",
      " 7   description   1266 non-null   object\n",
      "dtypes: int64(3), object(5)\n",
      "memory usage: 79.3+ KB\n"
     ]
    }
   ],
   "source": [
    "product_df.info()"
   ],
   "metadata": {
    "collapsed": false,
    "ExecuteTime": {
     "end_time": "2024-03-03T10:42:11.830498800Z",
     "start_time": "2024-03-03T10:42:11.808964Z"
    }
   },
   "id": "9edb7af81200ac",
   "execution_count": 14
  },
  {
   "cell_type": "code",
   "outputs": [
    {
     "name": "stdout",
     "output_type": "stream",
     "text": [
      "Jumlah duplikasi:  6\n"
     ]
    },
    {
     "data": {
      "text/plain": "        product_id        price     quantity\ncount  1266.000000  1266.000000  1266.000000\nmean    627.926540   105.812006    60.138231\nstd     363.971586     9.715611    11.682791\nmin       0.000000    90.000000    40.000000\n25%     313.250000    95.250000    50.000000\n50%     626.500000   109.000000    60.000000\n75%     942.750000   114.000000    70.000000\nmax    1259.000000   119.000000    80.000000",
      "text/html": "<div>\n<style scoped>\n    .dataframe tbody tr th:only-of-type {\n        vertical-align: middle;\n    }\n\n    .dataframe tbody tr th {\n        vertical-align: top;\n    }\n\n    .dataframe thead th {\n        text-align: right;\n    }\n</style>\n<table border=\"1\" class=\"dataframe\">\n  <thead>\n    <tr style=\"text-align: right;\">\n      <th></th>\n      <th>product_id</th>\n      <th>price</th>\n      <th>quantity</th>\n    </tr>\n  </thead>\n  <tbody>\n    <tr>\n      <th>count</th>\n      <td>1266.000000</td>\n      <td>1266.000000</td>\n      <td>1266.000000</td>\n    </tr>\n    <tr>\n      <th>mean</th>\n      <td>627.926540</td>\n      <td>105.812006</td>\n      <td>60.138231</td>\n    </tr>\n    <tr>\n      <th>std</th>\n      <td>363.971586</td>\n      <td>9.715611</td>\n      <td>11.682791</td>\n    </tr>\n    <tr>\n      <th>min</th>\n      <td>0.000000</td>\n      <td>90.000000</td>\n      <td>40.000000</td>\n    </tr>\n    <tr>\n      <th>25%</th>\n      <td>313.250000</td>\n      <td>95.250000</td>\n      <td>50.000000</td>\n    </tr>\n    <tr>\n      <th>50%</th>\n      <td>626.500000</td>\n      <td>109.000000</td>\n      <td>60.000000</td>\n    </tr>\n    <tr>\n      <th>75%</th>\n      <td>942.750000</td>\n      <td>114.000000</td>\n      <td>70.000000</td>\n    </tr>\n    <tr>\n      <th>max</th>\n      <td>1259.000000</td>\n      <td>119.000000</td>\n      <td>80.000000</td>\n    </tr>\n  </tbody>\n</table>\n</div>"
     },
     "execution_count": 15,
     "metadata": {},
     "output_type": "execute_result"
    }
   ],
   "source": [
    "print(\"Jumlah duplikasi: \", product_df.duplicated().sum())\n",
    " \n",
    "product_df.describe()"
   ],
   "metadata": {
    "collapsed": false,
    "ExecuteTime": {
     "end_time": "2024-03-03T10:42:18.601811200Z",
     "start_time": "2024-03-03T10:42:18.578362200Z"
    }
   },
   "id": "75e9aa9b4e7a0c16",
   "execution_count": 15
  },
  {
   "cell_type": "code",
   "outputs": [
    {
     "name": "stdout",
     "output_type": "stream",
     "text": [
      "<class 'pandas.core.frame.DataFrame'>\n",
      "RangeIndex: 5000 entries, 0 to 4999\n",
      "Data columns (total 6 columns):\n",
      " #   Column          Non-Null Count  Dtype  \n",
      "---  ------          --------------  -----  \n",
      " 0   sales_id        5000 non-null   int64  \n",
      " 1   order_id        5000 non-null   int64  \n",
      " 2   product_id      5000 non-null   int64  \n",
      " 3   price_per_unit  5000 non-null   int64  \n",
      " 4   quantity        5000 non-null   int64  \n",
      " 5   total_price     4981 non-null   float64\n",
      "dtypes: float64(1), int64(5)\n",
      "memory usage: 234.5 KB\n"
     ]
    }
   ],
   "source": [
    "sales_df.info()"
   ],
   "metadata": {
    "collapsed": false,
    "ExecuteTime": {
     "end_time": "2024-03-03T10:42:25.867758700Z",
     "start_time": "2024-03-03T10:42:25.844884300Z"
    }
   },
   "id": "53a52258b19489cf",
   "execution_count": 16
  },
  {
   "cell_type": "code",
   "outputs": [
    {
     "data": {
      "text/plain": "sales_id           0\norder_id           0\nproduct_id         0\nprice_per_unit     0\nquantity           0\ntotal_price       19\ndtype: int64"
     },
     "execution_count": 17,
     "metadata": {},
     "output_type": "execute_result"
    }
   ],
   "source": [
    "sales_df.isna().sum()"
   ],
   "metadata": {
    "collapsed": false,
    "ExecuteTime": {
     "end_time": "2024-03-03T10:42:32.631249300Z",
     "start_time": "2024-03-03T10:42:32.615538400Z"
    }
   },
   "id": "a2d3efb967c9346f",
   "execution_count": 17
  },
  {
   "cell_type": "code",
   "outputs": [
    {
     "name": "stdout",
     "output_type": "stream",
     "text": [
      "Jumlah duplikasi:  0\n"
     ]
    },
    {
     "data": {
      "text/plain": "          sales_id     order_id   product_id  price_per_unit    quantity  \\\ncount  5000.000000  5000.000000  5000.000000     5000.000000  5000.00000   \nmean   2499.500000   503.038200   634.053200      103.501600     1.99240   \nstd    1443.520003   285.964418   363.255794        9.195004     0.80751   \nmin       0.000000     1.000000     1.000000       90.000000     1.00000   \n25%    1249.750000   258.000000   323.000000       95.000000     1.00000   \n50%    2499.500000   504.500000   635.000000      102.000000     2.00000   \n75%    3749.250000   749.000000   951.000000      112.000000     3.00000   \nmax    4999.000000   999.000000  1259.000000      119.000000     3.00000   \n\n       total_price  \ncount  4981.000000  \nmean    206.307368  \nstd      86.352449  \nmin      90.000000  \n25%     112.000000  \n50%     204.000000  \n75%     285.000000  \nmax     357.000000  ",
      "text/html": "<div>\n<style scoped>\n    .dataframe tbody tr th:only-of-type {\n        vertical-align: middle;\n    }\n\n    .dataframe tbody tr th {\n        vertical-align: top;\n    }\n\n    .dataframe thead th {\n        text-align: right;\n    }\n</style>\n<table border=\"1\" class=\"dataframe\">\n  <thead>\n    <tr style=\"text-align: right;\">\n      <th></th>\n      <th>sales_id</th>\n      <th>order_id</th>\n      <th>product_id</th>\n      <th>price_per_unit</th>\n      <th>quantity</th>\n      <th>total_price</th>\n    </tr>\n  </thead>\n  <tbody>\n    <tr>\n      <th>count</th>\n      <td>5000.000000</td>\n      <td>5000.000000</td>\n      <td>5000.000000</td>\n      <td>5000.000000</td>\n      <td>5000.00000</td>\n      <td>4981.000000</td>\n    </tr>\n    <tr>\n      <th>mean</th>\n      <td>2499.500000</td>\n      <td>503.038200</td>\n      <td>634.053200</td>\n      <td>103.501600</td>\n      <td>1.99240</td>\n      <td>206.307368</td>\n    </tr>\n    <tr>\n      <th>std</th>\n      <td>1443.520003</td>\n      <td>285.964418</td>\n      <td>363.255794</td>\n      <td>9.195004</td>\n      <td>0.80751</td>\n      <td>86.352449</td>\n    </tr>\n    <tr>\n      <th>min</th>\n      <td>0.000000</td>\n      <td>1.000000</td>\n      <td>1.000000</td>\n      <td>90.000000</td>\n      <td>1.00000</td>\n      <td>90.000000</td>\n    </tr>\n    <tr>\n      <th>25%</th>\n      <td>1249.750000</td>\n      <td>258.000000</td>\n      <td>323.000000</td>\n      <td>95.000000</td>\n      <td>1.00000</td>\n      <td>112.000000</td>\n    </tr>\n    <tr>\n      <th>50%</th>\n      <td>2499.500000</td>\n      <td>504.500000</td>\n      <td>635.000000</td>\n      <td>102.000000</td>\n      <td>2.00000</td>\n      <td>204.000000</td>\n    </tr>\n    <tr>\n      <th>75%</th>\n      <td>3749.250000</td>\n      <td>749.000000</td>\n      <td>951.000000</td>\n      <td>112.000000</td>\n      <td>3.00000</td>\n      <td>285.000000</td>\n    </tr>\n    <tr>\n      <th>max</th>\n      <td>4999.000000</td>\n      <td>999.000000</td>\n      <td>1259.000000</td>\n      <td>119.000000</td>\n      <td>3.00000</td>\n      <td>357.000000</td>\n    </tr>\n  </tbody>\n</table>\n</div>"
     },
     "execution_count": 18,
     "metadata": {},
     "output_type": "execute_result"
    }
   ],
   "source": [
    "print(\"Jumlah duplikasi: \", sales_df.duplicated().sum())\n",
    "sales_df.describe()"
   ],
   "metadata": {
    "collapsed": false,
    "ExecuteTime": {
     "end_time": "2024-03-03T10:42:39.248271500Z",
     "start_time": "2024-03-03T10:42:39.217698500Z"
    }
   },
   "id": "6ac78bf0efc26246",
   "execution_count": 18
  },
  {
   "cell_type": "code",
   "outputs": [],
   "source": [
    "customers_df.drop_duplicates(inplace=True)\n"
   ],
   "metadata": {
    "collapsed": false
   },
   "id": "3fbe51afa9044aca"
  }
 ],
 "metadata": {
  "kernelspec": {
   "display_name": "Python 3",
   "language": "python",
   "name": "python3"
  },
  "language_info": {
   "codemirror_mode": {
    "name": "ipython",
    "version": 2
   },
   "file_extension": ".py",
   "mimetype": "text/x-python",
   "name": "python",
   "nbconvert_exporter": "python",
   "pygments_lexer": "ipython2",
   "version": "2.7.6"
  }
 },
 "nbformat": 4,
 "nbformat_minor": 5
}
